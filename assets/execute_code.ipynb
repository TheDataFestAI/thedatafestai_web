{
 "cells": [
  {
   "cell_type": "markdown",
   "metadata": {},
   "source": []
  },
  {
   "cell_type": "code",
   "execution_count": null,
   "metadata": {},
   "outputs": [
    {
     "name": "stdout",
     "output_type": "stream",
     "text": [
      "outside func, a: 10\n",
      "inside func, a: 12\n",
      "inside child_func, a: 22\n"
     ]
    }
   ],
   "source": [
    "a = 10\n",
    "print(f\"outside func, a: {a}\")\n",
    "\n",
    "def func():\n",
    "    # # local variable 'a' referenced before assignment\n",
    "    # print(f\"inside func, a: {a}\")\n",
    "    a = 12\n",
    "    print(f\"inside func, a: {a}\")\n",
    "    \n",
    "    def child_func():\n",
    "        # without mentioning a as global, child_func can access from parent func\n",
    "        nonlocal a\n",
    "        a += 10\n",
    "        print(f\"inside child_func, a: {a}\")\n",
    "    \n",
    "    child_func()\n",
    "    \n",
    "func()"
   ]
  },
  {
   "cell_type": "code",
   "execution_count": null,
   "metadata": {},
   "outputs": [
    {
     "name": "stdout",
     "output_type": "stream",
     "text": [
      "outside func, a: 10\n",
      "inside func, a: 10\n"
     ]
    }
   ],
   "source": [
    "a = 10\n",
    "print(f\"outside func, a: {a}\")\n",
    "\n",
    "def func():\n",
    "    print(f\"inside func, a: {a}\") # if a is not defined, then func can access outside global var\n",
    "\n",
    "func()"
   ]
  },
  {
   "cell_type": "code",
   "execution_count": null,
   "metadata": {},
   "outputs": [],
   "source": []
  }
 ],
 "metadata": {
  "kernelspec": {
   "display_name": ".venv",
   "language": "python",
   "name": "python3"
  },
  "language_info": {
   "codemirror_mode": {
    "name": "ipython",
    "version": 3
   },
   "file_extension": ".py",
   "mimetype": "text/x-python",
   "name": "python",
   "nbconvert_exporter": "python",
   "pygments_lexer": "ipython3",
   "version": "3.10.5"
  }
 },
 "nbformat": 4,
 "nbformat_minor": 2
}
