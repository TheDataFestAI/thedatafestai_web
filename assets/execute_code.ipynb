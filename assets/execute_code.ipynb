{
 "cells": [
  {
   "cell_type": "markdown",
   "metadata": {},
   "source": []
  },
  {
   "cell_type": "code",
   "execution_count": null,
   "metadata": {},
   "outputs": [
    {
     "name": "stdout",
     "output_type": "stream",
     "text": [
      "outside func, a: 10\n",
      "inside func, a: 12\n",
      "inside child_func, a: 22\n"
     ]
    }
   ],
   "source": [
    "a = 10\n",
    "print(f\"outside func, a: {a}\")\n",
    "\n",
    "def func():\n",
    "    # # local variable 'a' referenced before assignment\n",
    "    # print(f\"inside func, a: {a}\")\n",
    "    a = 12\n",
    "    print(f\"inside func, a: {a}\")\n",
    "    \n",
    "    def child_func():\n",
    "        # without mentioning a as global, child_func can access from parent func\n",
    "        nonlocal a\n",
    "        a += 10\n",
    "        print(f\"inside child_func, a: {a}\")\n",
    "    \n",
    "    child_func()\n",
    "    \n",
    "func()"
   ]
  },
  {
   "cell_type": "code",
   "execution_count": 10,
   "metadata": {},
   "outputs": [
    {
     "name": "stdout",
     "output_type": "stream",
     "text": [
      "total time took for factorial: Thu, 21 Nov 2024 17:34:20 and Thu, 21 Nov 2024 17:34:22\n",
      "3628800\n"
     ]
    }
   ],
   "source": [
    "import time\n",
    "from time import gmtime, strftime\n",
    "import math\n",
    "\n",
    "def calculate_duration(func):\n",
    "    def inner1(*args, **kwargs):\n",
    "        # storing time before function execution\n",
    "        begin = strftime(\"%a, %d %b %Y %H:%M:%S\", gmtime(time.time()))\n",
    "        \n",
    "        returned_value = func(*args, **kwargs)\n",
    "        \n",
    "        # storing time after function execution\n",
    "        end = strftime(\"%a, %d %b %Y %H:%M:%S\", gmtime(time.time()))\n",
    "        \n",
    "        print(f\"total time took for {func.__name__}: {begin} and {end}\")\n",
    "        return returned_value\n",
    "    return inner1\n",
    "\n",
    "@calculate_duration\n",
    "def factorial(num):\n",
    "    time.sleep(2)\n",
    "    return math.factorial(num)\n",
    "    \n",
    "print(factorial(10))\n",
    "       \n"
   ]
  },
  {
   "cell_type": "code",
   "execution_count": null,
   "metadata": {},
   "outputs": [],
   "source": []
  }
 ],
 "metadata": {
  "kernelspec": {
   "display_name": ".venv",
   "language": "python",
   "name": "python3"
  },
  "language_info": {
   "codemirror_mode": {
    "name": "ipython",
    "version": 3
   },
   "file_extension": ".py",
   "mimetype": "text/x-python",
   "name": "python",
   "nbconvert_exporter": "python",
   "pygments_lexer": "ipython3",
   "version": "3.10.5"
  }
 },
 "nbformat": 4,
 "nbformat_minor": 2
}
