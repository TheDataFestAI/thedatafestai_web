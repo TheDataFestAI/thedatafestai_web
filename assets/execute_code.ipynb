{
 "cells": [
  {
   "cell_type": "markdown",
   "metadata": {},
   "source": []
  },
  {
   "cell_type": "code",
   "execution_count": 2,
   "metadata": {},
   "outputs": [
    {
     "name": "stderr",
     "output_type": "stream",
     "text": [
      "test_one_plus_two (__main__.TestAddition) ... ok\n",
      "test_two_plus_two (__main__.TestAddition) ... ok\n",
      "\n",
      "----------------------------------------------------------------------\n",
      "Ran 2 tests in 0.009s\n",
      "\n",
      "OK\n"
     ]
    },
    {
     "name": "stdout",
     "output_type": "stream",
     "text": [
      "__init__\n",
      "__init__\n",
      "Setup\n",
      "teardown\n",
      "Setup\n",
      "teardown\n"
     ]
    }
   ],
   "source": [
    "import unittest\n",
    "\n",
    "class TestAddition(unittest.TestCase):\n",
    "    def __init__(self, *args, **kwargs):\n",
    "        super().__init__( *args, **kwargs)\n",
    "        print(\"__init__\")\n",
    "        \n",
    "    def setUp(self):\n",
    "        print(\"Setup\")\n",
    "\n",
    "    def test_one_plus_two(self):\n",
    "        self.assertEqual(1+2, 3)\n",
    "        \n",
    "    def test_two_plus_two(self):\n",
    "        self.assertEqual(2+2, 4)\n",
    "    \n",
    "    def tearDown(self):\n",
    "        print(\"teardown\")\n",
    "\n",
    "# run below code  if you are running from a notebook\n",
    "res = unittest.main(argv=[''], verbosity=3, exit=False)"
   ]
  },
  {
   "cell_type": "code",
   "execution_count": null,
   "metadata": {},
   "outputs": [
    {
     "data": {
      "text/plain": [
       "<Mock name='mock.do_something()' id='1880549221440'>"
      ]
     },
     "execution_count": 8,
     "metadata": {},
     "output_type": "execute_result"
    }
   ],
   "source": [
    "from unittest.mock import Mock\n",
    "\n",
    "mock = Mock()\n",
    "\n",
    "print(mock.some_attribute)\n",
    "print(mock.do_something())"
   ]
  },
  {
   "cell_type": "code",
   "execution_count": 10,
   "metadata": {},
   "outputs": [
    {
     "name": "stdout",
     "output_type": "stream",
     "text": [
      "Number of times you called loads(): 1\n",
      "The last loads() call: call('{\"key\": \"value\"}')\n",
      "List of loads() calls [call('{\"key\": \"value\"}')]\n",
      "List of calls to json's methods (recursively) [call.loads('{\"key\": \"value\"}')]\n"
     ]
    }
   ],
   "source": [
    "from unittest.mock import Mock\n",
    "\n",
    "json = Mock()\n",
    "json.loads('{\"key\": \"value\"}')\n",
    "\n",
    "# Number of times you called loads():\n",
    "print(\"Number of times you called loads():\", json.loads.call_count)\n",
    "\n",
    "# The last loads() call:\n",
    "print(\"The last loads() call:\", json.loads.call_args)\n",
    "\n",
    "# List of loads() calls:\n",
    "print(\"List of loads() calls\", json.loads.call_args_list)\n",
    "\n",
    "# List of calls to json's methods (recursively):\n",
    "print(\"List of calls to json's methods (recursively)\", json.method_calls)\n"
   ]
  },
  {
   "cell_type": "code",
   "execution_count": 14,
   "metadata": {},
   "outputs": [],
   "source": [
    "from datetime import datetime\n",
    "from unittest.mock import Mock\n",
    "\n",
    "# original function\n",
    "def is_weekday():\n",
    "    today = datetime.today()\n",
    "    return (0 <= today.weekday() < 5)\n",
    "\n",
    "# Test if today is a weekday\n",
    "# assert is_weekday()\n",
    "\n",
    "# Save a couple of test days\n",
    "wednesday = datetime(year=2025, month=1, day=1)\n",
    "sunday = datetime(year=2025, month=1, day=5)\n",
    "\n",
    "# Mock datetime to control today's date\n",
    "datetime = Mock()\n",
    "\n",
    "# Mock .today() to return Wednesday\n",
    "datetime.today.return_value = wednesday\n",
    "# Test Wednesday is a weekday\n",
    "assert is_weekday()\n",
    "\n",
    "# Mock .today() to return Wednesday\n",
    "datetime.today.return_value = sunday\n",
    "# Test Wednesday is a weekday\n",
    "assert not is_weekday()\n"
   ]
  },
  {
   "cell_type": "code",
   "execution_count": 17,
   "metadata": {},
   "outputs": [
    {
     "name": "stderr",
     "output_type": "stream",
     "text": [
      "test_one_plus_two (__main__.TestAddition) ... ok\n",
      "test_two_plus_two (__main__.TestAddition) ... ok\n",
      "test_get_holidays_logging (__main__.TestHolidays) ... ok\n",
      "test_get_holidays_timeout (__main__.TestHolidays) ... ok\n",
      "test_get_holidays_timeout (__main__.TestMethods) ... ok\n",
      "\n",
      "----------------------------------------------------------------------\n",
      "Ran 5 tests in 0.013s\n",
      "\n",
      "OK\n"
     ]
    },
    {
     "name": "stdout",
     "output_type": "stream",
     "text": [
      "__init__\n",
      "__init__\n",
      "Setup\n",
      "teardown\n",
      "Setup\n",
      "teardown\n",
      "Making a request to http://localhost/api/holidays.\n",
      "Request received!\n"
     ]
    }
   ],
   "source": [
    "import unittest\n",
    "from unittest.mock import Mock\n",
    "from requests.exceptions import Timeout\n",
    "\n",
    "requests = Mock()\n",
    "\n",
    "# original function\n",
    "def get_holidays():\n",
    "    r = requests.get(\"http://localhost/api/holidays\")\n",
    "    if r.status_code == 200:\n",
    "        return r.json()\n",
    "    return None\n",
    "\n",
    "\n",
    "class TestHolidays(unittest.TestCase):\n",
    "    def log_request(self, url):\n",
    "        # Log a fake request for test output purposes\n",
    "        print(f\"Making a request to {url}.\")\n",
    "        print(\"Request received!\")\n",
    "\n",
    "        # Create a new Mock to imitate a Response\n",
    "        response_mock = Mock()\n",
    "        response_mock.status_code = 200\n",
    "        response_mock.json.return_value = {\n",
    "            \"12/25\": \"Christmas\",\n",
    "            \"7/4\": \"Independence Day\",\n",
    "        }\n",
    "        return response_mock\n",
    "    \n",
    "    def test_get_holidays_timeout(self):\n",
    "        requests.get.side_effect = Timeout  # [Timeout, response_mock]\n",
    "        with self.assertRaises(Timeout):\n",
    "            get_holidays()\n",
    "        assert requests.get.call_count == 2\n",
    "            \n",
    "    def test_get_holidays_logging(self):\n",
    "        # set the .side_effect of .get() to .log_request(), .get() forwards its arguments to .log_request()\n",
    "        requests.get.side_effect = self.log_request\n",
    "        assert get_holidays()[\"12/25\"] == \"Christmas\"\n",
    "            \n",
    "res = unittest.main(argv=[''], verbosity=3, exit=False)"
   ]
  },
  {
   "cell_type": "code",
   "execution_count": null,
   "metadata": {},
   "outputs": [],
   "source": []
  }
 ],
 "metadata": {
  "kernelspec": {
   "display_name": ".venv",
   "language": "python",
   "name": "python3"
  },
  "language_info": {
   "codemirror_mode": {
    "name": "ipython",
    "version": 3
   },
   "file_extension": ".py",
   "mimetype": "text/x-python",
   "name": "python",
   "nbconvert_exporter": "python",
   "pygments_lexer": "ipython3",
   "version": "3.10.5"
  }
 },
 "nbformat": 4,
 "nbformat_minor": 2
}
