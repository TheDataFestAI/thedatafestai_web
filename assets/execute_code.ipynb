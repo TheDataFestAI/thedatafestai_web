{
 "cells": [
  {
   "cell_type": "markdown",
   "metadata": {},
   "source": []
  },
  {
   "cell_type": "code",
   "execution_count": 13,
   "metadata": {},
   "outputs": [],
   "source": [
    "import pandas as pd\n",
    "\n",
    "df1 = pd.DataFrame({\n",
    "    'col_1': [3],\n",
    "    'col_2': ['emp3'],\n",
    "    'col_3': ['India']\n",
    "})\n",
    "\n",
    "df2 = pd.DataFrame({\n",
    "    'col_1': [4],\n",
    "    'col_2': ['emp4'],\n",
    "    'col_3': ['UK']\n",
    "})\n",
    "\n",
    "df3 = pd.DataFrame({\n",
    "    'col_1': [5],\n",
    "    'col_2': ['emp5'],\n",
    "    'col_3': ['USA']\n",
    "})\n",
    "\n",
    "df = pd.concat([df1, df2, df3])"
   ]
  },
  {
   "cell_type": "code",
   "execution_count": 14,
   "metadata": {},
   "outputs": [
    {
     "data": {
      "text/html": [
       "<div>\n",
       "<style scoped>\n",
       "    .dataframe tbody tr th:only-of-type {\n",
       "        vertical-align: middle;\n",
       "    }\n",
       "\n",
       "    .dataframe tbody tr th {\n",
       "        vertical-align: top;\n",
       "    }\n",
       "\n",
       "    .dataframe thead th {\n",
       "        text-align: right;\n",
       "    }\n",
       "</style>\n",
       "<table border=\"1\" class=\"dataframe\">\n",
       "  <thead>\n",
       "    <tr style=\"text-align: right;\">\n",
       "      <th></th>\n",
       "      <th>col_1</th>\n",
       "      <th>col_2</th>\n",
       "      <th>col_3</th>\n",
       "    </tr>\n",
       "  </thead>\n",
       "  <tbody>\n",
       "    <tr>\n",
       "      <th>0</th>\n",
       "      <td>3</td>\n",
       "      <td>emp3</td>\n",
       "      <td>India</td>\n",
       "    </tr>\n",
       "    <tr>\n",
       "      <th>0</th>\n",
       "      <td>4</td>\n",
       "      <td>emp4</td>\n",
       "      <td>UK</td>\n",
       "    </tr>\n",
       "    <tr>\n",
       "      <th>0</th>\n",
       "      <td>5</td>\n",
       "      <td>emp5</td>\n",
       "      <td>USA</td>\n",
       "    </tr>\n",
       "  </tbody>\n",
       "</table>\n",
       "</div>"
      ],
      "text/plain": [
       "   col_1 col_2  col_3\n",
       "0      3  emp3  India\n",
       "0      4  emp4     UK\n",
       "0      5  emp5    USA"
      ]
     },
     "execution_count": 14,
     "metadata": {},
     "output_type": "execute_result"
    }
   ],
   "source": [
    "df"
   ]
  },
  {
   "cell_type": "code",
   "execution_count": null,
   "metadata": {},
   "outputs": [
    {
     "name": "stdout",
     "output_type": "stream",
     "text": [
      "Number of times you called loads(): 1\n",
      "The last loads() call: call('{\"key\": \"value\"}')\n",
      "List of loads() calls [call('{\"key\": \"value\"}')]\n",
      "List of calls to json's methods (recursively) [call.loads('{\"key\": \"value\"}')]\n"
     ]
    }
   ],
   "source": []
  },
  {
   "cell_type": "code",
   "execution_count": null,
   "metadata": {},
   "outputs": [],
   "source": []
  },
  {
   "cell_type": "code",
   "execution_count": 17,
   "metadata": {},
   "outputs": [
    {
     "name": "stderr",
     "output_type": "stream",
     "text": [
      "test_one_plus_two (__main__.TestAddition) ... ok\n",
      "test_two_plus_two (__main__.TestAddition) ... ok\n",
      "test_get_holidays_logging (__main__.TestHolidays) ... ok\n",
      "test_get_holidays_timeout (__main__.TestHolidays) ... ok\n",
      "test_get_holidays_timeout (__main__.TestMethods) ... ok\n",
      "\n",
      "----------------------------------------------------------------------\n",
      "Ran 5 tests in 0.013s\n",
      "\n",
      "OK\n"
     ]
    },
    {
     "name": "stdout",
     "output_type": "stream",
     "text": [
      "__init__\n",
      "__init__\n",
      "Setup\n",
      "teardown\n",
      "Setup\n",
      "teardown\n",
      "Making a request to http://localhost/api/holidays.\n",
      "Request received!\n"
     ]
    }
   ],
   "source": [
    "import unittest\n",
    "from unittest.mock import Mock\n",
    "from requests.exceptions import Timeout\n",
    "\n",
    "requests = Mock()\n",
    "\n",
    "# original function\n",
    "def get_holidays():\n",
    "    r = requests.get(\"http://localhost/api/holidays\")\n",
    "    if r.status_code == 200:\n",
    "        return r.json()\n",
    "    return None\n",
    "\n",
    "\n",
    "class TestHolidays(unittest.TestCase):\n",
    "    def log_request(self, url):\n",
    "        # Log a fake request for test output purposes\n",
    "        print(f\"Making a request to {url}.\")\n",
    "        print(\"Request received!\")\n",
    "\n",
    "        # Create a new Mock to imitate a Response\n",
    "        response_mock = Mock()\n",
    "        response_mock.status_code = 200\n",
    "        response_mock.json.return_value = {\n",
    "            \"12/25\": \"Christmas\",\n",
    "            \"7/4\": \"Independence Day\",\n",
    "        }\n",
    "        return response_mock\n",
    "    \n",
    "    def test_get_holidays_timeout(self):\n",
    "        requests.get.side_effect = Timeout  # [Timeout, response_mock]\n",
    "        with self.assertRaises(Timeout):\n",
    "            get_holidays()\n",
    "        assert requests.get.call_count == 2\n",
    "            \n",
    "    def test_get_holidays_logging(self):\n",
    "        # set the .side_effect of .get() to .log_request(), .get() forwards its arguments to .log_request()\n",
    "        requests.get.side_effect = self.log_request\n",
    "        assert get_holidays()[\"12/25\"] == \"Christmas\"\n",
    "            \n",
    "res = unittest.main(argv=[''], verbosity=3, exit=False)"
   ]
  },
  {
   "cell_type": "code",
   "execution_count": null,
   "metadata": {},
   "outputs": [],
   "source": []
  }
 ],
 "metadata": {
  "kernelspec": {
   "display_name": ".venv",
   "language": "python",
   "name": "python3"
  },
  "language_info": {
   "codemirror_mode": {
    "name": "ipython",
    "version": 3
   },
   "file_extension": ".py",
   "mimetype": "text/x-python",
   "name": "python",
   "nbconvert_exporter": "python",
   "pygments_lexer": "ipython3",
   "version": "3.10.5"
  }
 },
 "nbformat": 4,
 "nbformat_minor": 2
}
